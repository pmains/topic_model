{
 "cells": [
  {
   "cell_type": "code",
   "execution_count": 1,
   "id": "4f504d00",
   "metadata": {},
   "outputs": [],
   "source": [
    "import pandas as pd"
   ]
  },
  {
   "cell_type": "code",
   "execution_count": 2,
   "id": "ccce9f25",
   "metadata": {},
   "outputs": [
    {
     "data": {
      "text/html": [
       "<div>\n",
       "<style scoped>\n",
       "    .dataframe tbody tr th:only-of-type {\n",
       "        vertical-align: middle;\n",
       "    }\n",
       "\n",
       "    .dataframe tbody tr th {\n",
       "        vertical-align: top;\n",
       "    }\n",
       "\n",
       "    .dataframe thead th {\n",
       "        text-align: right;\n",
       "    }\n",
       "</style>\n",
       "<table border=\"1\" class=\"dataframe\">\n",
       "  <thead>\n",
       "    <tr style=\"text-align: right;\">\n",
       "      <th></th>\n",
       "      <th>channel_url</th>\n",
       "      <th>video_url</th>\n",
       "      <th>channel_id</th>\n",
       "      <th>video_id</th>\n",
       "    </tr>\n",
       "  </thead>\n",
       "  <tbody>\n",
       "    <tr>\n",
       "      <th>0</th>\n",
       "      <td>https://www.youtube.com/@RepBost</td>\n",
       "      <td>https://www.youtube.com/watch?v=Uq0MQ8U2Zwk</td>\n",
       "      <td>@RepBost</td>\n",
       "      <td>Uq0MQ8U2Zwk</td>\n",
       "    </tr>\n",
       "    <tr>\n",
       "      <th>1</th>\n",
       "      <td>https://www.youtube.com/@RepBost</td>\n",
       "      <td>https://www.youtube.com/watch?v=xX7_M8a8yos</td>\n",
       "      <td>@RepBost</td>\n",
       "      <td>xX7_M8a8yos</td>\n",
       "    </tr>\n",
       "    <tr>\n",
       "      <th>2</th>\n",
       "      <td>https://www.youtube.com/@RepBost</td>\n",
       "      <td>https://www.youtube.com/watch?v=zP5UP5uyabs</td>\n",
       "      <td>@RepBost</td>\n",
       "      <td>zP5UP5uyabs</td>\n",
       "    </tr>\n",
       "    <tr>\n",
       "      <th>3</th>\n",
       "      <td>https://www.youtube.com/@RepBost</td>\n",
       "      <td>https://www.youtube.com/watch?v=VMSJsT6ZIHY</td>\n",
       "      <td>@RepBost</td>\n",
       "      <td>VMSJsT6ZIHY</td>\n",
       "    </tr>\n",
       "    <tr>\n",
       "      <th>4</th>\n",
       "      <td>https://www.youtube.com/@RepBost</td>\n",
       "      <td>https://www.youtube.com/watch?v=0leOLhUIxzw</td>\n",
       "      <td>@RepBost</td>\n",
       "      <td>0leOLhUIxzw</td>\n",
       "    </tr>\n",
       "  </tbody>\n",
       "</table>\n",
       "</div>"
      ],
      "text/plain": [
       "                        channel_url  \\\n",
       "0  https://www.youtube.com/@RepBost   \n",
       "1  https://www.youtube.com/@RepBost   \n",
       "2  https://www.youtube.com/@RepBost   \n",
       "3  https://www.youtube.com/@RepBost   \n",
       "4  https://www.youtube.com/@RepBost   \n",
       "\n",
       "                                     video_url channel_id     video_id  \n",
       "0  https://www.youtube.com/watch?v=Uq0MQ8U2Zwk   @RepBost  Uq0MQ8U2Zwk  \n",
       "1  https://www.youtube.com/watch?v=xX7_M8a8yos   @RepBost  xX7_M8a8yos  \n",
       "2  https://www.youtube.com/watch?v=zP5UP5uyabs   @RepBost  zP5UP5uyabs  \n",
       "3  https://www.youtube.com/watch?v=VMSJsT6ZIHY   @RepBost  VMSJsT6ZIHY  \n",
       "4  https://www.youtube.com/watch?v=0leOLhUIxzw   @RepBost  0leOLhUIxzw  "
      ]
     },
     "execution_count": 2,
     "metadata": {},
     "output_type": "execute_result"
    }
   ],
   "source": [
    "vdf = pd.read_csv(\"videos.csv\")\n",
    "vdf['channel_id'] = vdf.channel_url.apply(lambda s: s[s.find('@'):])\n",
    "vdf['video_id'] = vdf.video_url.apply(lambda s: s[s.find('v=')+2:])\n",
    "vdf.head()"
   ]
  },
  {
   "cell_type": "code",
   "execution_count": 3,
   "id": "e198a6b1",
   "metadata": {},
   "outputs": [
    {
     "data": {
      "text/html": [
       "<div>\n",
       "<style scoped>\n",
       "    .dataframe tbody tr th:only-of-type {\n",
       "        vertical-align: middle;\n",
       "    }\n",
       "\n",
       "    .dataframe tbody tr th {\n",
       "        vertical-align: top;\n",
       "    }\n",
       "\n",
       "    .dataframe thead th {\n",
       "        text-align: right;\n",
       "    }\n",
       "</style>\n",
       "<table border=\"1\" class=\"dataframe\">\n",
       "  <thead>\n",
       "    <tr style=\"text-align: right;\">\n",
       "      <th></th>\n",
       "      <th>channel_url</th>\n",
       "      <th>video_url</th>\n",
       "      <th>channel_id</th>\n",
       "      <th>video_id</th>\n",
       "    </tr>\n",
       "  </thead>\n",
       "  <tbody>\n",
       "    <tr>\n",
       "      <th>0</th>\n",
       "      <td>https://www.youtube.com/@RepZoeLofgren</td>\n",
       "      <td>https://www.youtube.com/watch?v=KOy3lPG-KUg</td>\n",
       "      <td>@RepZoeLofgren</td>\n",
       "      <td>KOy3lPG-KUg</td>\n",
       "    </tr>\n",
       "    <tr>\n",
       "      <th>1</th>\n",
       "      <td>https://www.youtube.com/@RepZoeLofgren</td>\n",
       "      <td>https://www.youtube.com/watch?v=puIz0oJmoU4</td>\n",
       "      <td>@RepZoeLofgren</td>\n",
       "      <td>puIz0oJmoU4</td>\n",
       "    </tr>\n",
       "    <tr>\n",
       "      <th>2</th>\n",
       "      <td>https://www.youtube.com/@RepZoeLofgren</td>\n",
       "      <td>https://www.youtube.com/watch?v=dzgbyxyonQo</td>\n",
       "      <td>@RepZoeLofgren</td>\n",
       "      <td>dzgbyxyonQo</td>\n",
       "    </tr>\n",
       "    <tr>\n",
       "      <th>3</th>\n",
       "      <td>https://www.youtube.com/@RepZoeLofgren</td>\n",
       "      <td>https://www.youtube.com/watch?v=89Y4fUXzkqc</td>\n",
       "      <td>@RepZoeLofgren</td>\n",
       "      <td>89Y4fUXzkqc</td>\n",
       "    </tr>\n",
       "    <tr>\n",
       "      <th>4</th>\n",
       "      <td>https://www.youtube.com/@RepZoeLofgren</td>\n",
       "      <td>https://www.youtube.com/watch?v=C918i8EJZ9g</td>\n",
       "      <td>@RepZoeLofgren</td>\n",
       "      <td>C918i8EJZ9g</td>\n",
       "    </tr>\n",
       "  </tbody>\n",
       "</table>\n",
       "</div>"
      ],
      "text/plain": [
       "                              channel_url  \\\n",
       "0  https://www.youtube.com/@RepZoeLofgren   \n",
       "1  https://www.youtube.com/@RepZoeLofgren   \n",
       "2  https://www.youtube.com/@RepZoeLofgren   \n",
       "3  https://www.youtube.com/@RepZoeLofgren   \n",
       "4  https://www.youtube.com/@RepZoeLofgren   \n",
       "\n",
       "                                     video_url      channel_id     video_id  \n",
       "0  https://www.youtube.com/watch?v=KOy3lPG-KUg  @RepZoeLofgren  KOy3lPG-KUg  \n",
       "1  https://www.youtube.com/watch?v=puIz0oJmoU4  @RepZoeLofgren  puIz0oJmoU4  \n",
       "2  https://www.youtube.com/watch?v=dzgbyxyonQo  @RepZoeLofgren  dzgbyxyonQo  \n",
       "3  https://www.youtube.com/watch?v=89Y4fUXzkqc  @RepZoeLofgren  89Y4fUXzkqc  \n",
       "4  https://www.youtube.com/watch?v=C918i8EJZ9g  @RepZoeLofgren  C918i8EJZ9g  "
      ]
     },
     "execution_count": 3,
     "metadata": {},
     "output_type": "execute_result"
    }
   ],
   "source": [
    "cvt_df = pd.concat([pd.read_csv(\"channel-video-tokens.csv\"), vdf])\n",
    "cvt_df.head()"
   ]
  },
  {
   "cell_type": "code",
   "execution_count": 4,
   "id": "a52be434",
   "metadata": {},
   "outputs": [
    {
     "data": {
      "text/plain": [
       "(1595, 87676)"
      ]
     },
     "execution_count": 4,
     "metadata": {},
     "output_type": "execute_result"
    }
   ],
   "source": [
    "len(vdf), len(cvt_df)"
   ]
  },
  {
   "cell_type": "code",
   "execution_count": 6,
   "id": "22aef5aa",
   "metadata": {},
   "outputs": [],
   "source": [
    "cvt_df.to_csv('channel-video-tokens.csv', index=False)"
   ]
  },
  {
   "cell_type": "code",
   "execution_count": null,
   "id": "4cb32994",
   "metadata": {},
   "outputs": [],
   "source": []
  }
 ],
 "metadata": {
  "kernelspec": {
   "display_name": "Python 3 (ipykernel)",
   "language": "python",
   "name": "python3"
  },
  "language_info": {
   "codemirror_mode": {
    "name": "ipython",
    "version": 3
   },
   "file_extension": ".py",
   "mimetype": "text/x-python",
   "name": "python",
   "nbconvert_exporter": "python",
   "pygments_lexer": "ipython3",
   "version": "3.10.0"
  }
 },
 "nbformat": 4,
 "nbformat_minor": 5
}
