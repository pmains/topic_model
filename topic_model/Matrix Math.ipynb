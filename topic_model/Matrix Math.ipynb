{
 "cells": [
  {
   "cell_type": "code",
   "execution_count": null,
   "id": "229cef82",
   "metadata": {},
   "outputs": [],
   "source": [
    "import torch"
   ]
  },
  {
   "cell_type": "code",
   "execution_count": null,
   "id": "071f896f",
   "metadata": {},
   "outputs": [],
   "source": [
    "a = torch.tensor([1, 0, 0, 2])\n",
    "b = torch.tensor([0, 4, 2, 8])\n",
    "c = torch.tensor([0, 0, 4, 0])\n",
    "\n",
    "w = torch.tensor([1, 2, 5])"
   ]
  },
  {
   "cell_type": "code",
   "execution_count": null,
   "id": "890b9cf0",
   "metadata": {},
   "outputs": [],
   "source": [
    "def normalize_weights(weights):\n",
    "    weight_sum = torch.sum(weights).item()\n",
    "    return weights / weight_sum"
   ]
  },
  {
   "cell_type": "code",
   "execution_count": null,
   "id": "7aa59fe0",
   "metadata": {},
   "outputs": [],
   "source": [
    "nw = normalize_weights(w)\n",
    "nw"
   ]
  },
  {
   "cell_type": "code",
   "execution_count": null,
   "id": "1fcedd84",
   "metadata": {},
   "outputs": [],
   "source": [
    "m = torch.concat([t.unsqueeze(0) for t in (a, b, c)])\n",
    "m.shape"
   ]
  },
  {
   "cell_type": "code",
   "execution_count": null,
   "id": "e4026314",
   "metadata": {},
   "outputs": [],
   "source": [
    "pm = m * nw.unsqueeze(1).repeat(1, m.shape[1])\n",
    "pm"
   ]
  },
  {
   "cell_type": "code",
   "execution_count": null,
   "id": "9cfadb67",
   "metadata": {},
   "outputs": [],
   "source": [
    "pm.sum(dim=0)"
   ]
  },
  {
   "cell_type": "code",
   "execution_count": null,
   "id": "64e9781a",
   "metadata": {},
   "outputs": [],
   "source": []
  }
 ],
 "metadata": {
  "kernelspec": {
   "display_name": "Python 3 (ipykernel)",
   "language": "python",
   "name": "python3"
  },
  "language_info": {
   "codemirror_mode": {
    "name": "ipython",
    "version": 3
   },
   "file_extension": ".py",
   "mimetype": "text/x-python",
   "name": "python",
   "nbconvert_exporter": "python",
   "pygments_lexer": "ipython3",
   "version": "3.10.0"
  }
 },
 "nbformat": 4,
 "nbformat_minor": 5
}
