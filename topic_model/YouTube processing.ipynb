{
 "cells": [
  {
   "cell_type": "code",
   "execution_count": 4,
   "id": "41374327",
   "metadata": {},
   "outputs": [],
   "source": [
    "import re\n",
    "\n",
    "import pandas as pd\n",
    "import numpy as np\n",
    "import json"
   ]
  },
  {
   "cell_type": "code",
   "execution_count": 15,
   "id": "150e12b8",
   "metadata": {},
   "outputs": [
    {
     "data": {
      "text/html": [
       "<div>\n",
       "<style scoped>\n",
       "    .dataframe tbody tr th:only-of-type {\n",
       "        vertical-align: middle;\n",
       "    }\n",
       "\n",
       "    .dataframe tbody tr th {\n",
       "        vertical-align: top;\n",
       "    }\n",
       "\n",
       "    .dataframe thead th {\n",
       "        text-align: right;\n",
       "    }\n",
       "</style>\n",
       "<table border=\"1\" class=\"dataframe\">\n",
       "  <thead>\n",
       "    <tr style=\"text-align: right;\">\n",
       "      <th></th>\n",
       "      <th>channel_id</th>\n",
       "      <th>video_id</th>\n",
       "      <th>transcript</th>\n",
       "      <th>file_name</th>\n",
       "    </tr>\n",
       "  </thead>\n",
       "  <tbody>\n",
       "    <tr>\n",
       "      <th>0</th>\n",
       "      <td>@annwagner160</td>\n",
       "      <td>cf4olxs1lBs</td>\n",
       "      <td>['miss Wagner for five minutes I thank the', '...</td>\n",
       "      <td>annwagner160-cf4olxs1lBs.txt</td>\n",
       "    </tr>\n",
       "    <tr>\n",
       "      <th>1</th>\n",
       "      <td>@annwagner160</td>\n",
       "      <td>KO0f0g8PiLc</td>\n",
       "      <td>['from Missouri the home of the Stanley', 'Cup...</td>\n",
       "      <td>annwagner160-KO0f0g8PiLc.txt</td>\n",
       "    </tr>\n",
       "    <tr>\n",
       "      <th>2</th>\n",
       "      <td>@annwagner160</td>\n",
       "      <td>06z5JGNkjB0</td>\n",
       "      <td>['I just move to strike the last word the', 'g...</td>\n",
       "      <td>annwagner160-06z5JGNkjB0.txt</td>\n",
       "    </tr>\n",
       "    <tr>\n",
       "      <th>3</th>\n",
       "      <td>@annwagner160</td>\n",
       "      <td>hZ6RqNkJFow</td>\n",
       "      <td>[\"thank you madam chairwoman I'm I'm\", 'concer...</td>\n",
       "      <td>annwagner160-hZ6RqNkJFow.txt</td>\n",
       "    </tr>\n",
       "    <tr>\n",
       "      <th>4</th>\n",
       "      <td>@annwagner160</td>\n",
       "      <td>7BCBPzzyd4E</td>\n",
       "      <td>['the gentlewoman from Missouri seek', 'recogn...</td>\n",
       "      <td>annwagner160-7BCBPzzyd4E.txt</td>\n",
       "    </tr>\n",
       "  </tbody>\n",
       "</table>\n",
       "</div>"
      ],
      "text/plain": [
       "      channel_id     video_id  \\\n",
       "0  @annwagner160  cf4olxs1lBs   \n",
       "1  @annwagner160  KO0f0g8PiLc   \n",
       "2  @annwagner160  06z5JGNkjB0   \n",
       "3  @annwagner160  hZ6RqNkJFow   \n",
       "4  @annwagner160  7BCBPzzyd4E   \n",
       "\n",
       "                                          transcript  \\\n",
       "0  ['miss Wagner for five minutes I thank the', '...   \n",
       "1  ['from Missouri the home of the Stanley', 'Cup...   \n",
       "2  ['I just move to strike the last word the', 'g...   \n",
       "3  [\"thank you madam chairwoman I'm I'm\", 'concer...   \n",
       "4  ['the gentlewoman from Missouri seek', 'recogn...   \n",
       "\n",
       "                      file_name  \n",
       "0  annwagner160-cf4olxs1lBs.txt  \n",
       "1  annwagner160-KO0f0g8PiLc.txt  \n",
       "2  annwagner160-06z5JGNkjB0.txt  \n",
       "3  annwagner160-hZ6RqNkJFow.txt  \n",
       "4  annwagner160-7BCBPzzyd4E.txt  "
      ]
     },
     "execution_count": 15,
     "metadata": {},
     "output_type": "execute_result"
    }
   ],
   "source": [
    "create_file_name = lambda x: f'{x.channel_id.replace(\"@\", \"\")}-{x.video_id}.txt'\n",
    "\n",
    "ydf = pd.read_csv(\"data/youtube.csv\").drop([\"Unnamed: 0\"], axis=1)\n",
    "ydf['file_name'] = ydf.apply(create_file_name, axis=1)\n",
    "ydf.head()"
   ]
  },
  {
   "cell_type": "code",
   "execution_count": 20,
   "id": "7795f9dc",
   "metadata": {},
   "outputs": [],
   "source": [
    "empty_transcript = list()\n",
    "\n",
    "for _, row in ydf.iterrows():\n",
    "    if pd.isna(row.transcript):\n",
    "        empty_transcript.append(row.file_name)\n",
    "    else:\n",
    "        text_string = \" \".join(eval(row.transcript))\n",
    "        with open(f\"data/youtube/raw/{row.file_name}\", \"w\") as file_name:\n",
    "            file_name.write(text_string)"
   ]
  },
  {
   "cell_type": "code",
   "execution_count": 21,
   "id": "ca947d35",
   "metadata": {},
   "outputs": [
    {
     "data": {
      "text/plain": [
       "1087"
      ]
     },
     "execution_count": 21,
     "metadata": {},
     "output_type": "execute_result"
    }
   ],
   "source": [
    "len(empty_transcript)"
   ]
  },
  {
   "cell_type": "code",
   "execution_count": 25,
   "id": "0172ca5c",
   "metadata": {},
   "outputs": [
    {
     "data": {
      "text/plain": [
       "13234"
      ]
     },
     "execution_count": 25,
     "metadata": {},
     "output_type": "execute_result"
    }
   ],
   "source": [
    "len(ydf)"
   ]
  },
  {
   "cell_type": "code",
   "execution_count": 8,
   "id": "9ec01130",
   "metadata": {},
   "outputs": [
    {
     "name": "stdout",
     "output_type": "stream",
     "text": [
      "Welcome back! In just a few hours, the House is set to vote on a border bill that will reign in the president's power to give illegal immigrants amnesty. But, does the bill go far enough to address the border crisis? Joining us now is the chairman of the House Homeland Security Committee, Congressman Michael McCaul. Tomorrow, everyone's set to take recess, so do you believe that this will actually get accomplished? Will everyone leave with something sign, sealed, and delivered?\n",
      "\"Well, the House is going to do this job. This is a crisis that demands action and leadership, and we will provide that today in several ways. One, a message of deterrence. We're going to change the 2008 trafficking law, which basically says that if you come into the United States from Central America, you'll be treated just like we treat the Mexicans with a very swift removal from the United States back to your country of origin. You know, back home in a humane way, and secondly, deploying the National Guard.\"\n",
      "\"The governor of my state has already activated the National Guard, but it's the federal government's responsibility under the Constitution to pick up the tab for that. So, we will be deploying the National Guard all throughout the Southwest border as a border security measure. I think those two things, you know, the 2008 tweak is important because that will stop the flow coming into the country. Once we send them back, they will stop coming in.\"\n",
      "\"Sure, 2012 the president has this dream act. If you got brought here by your parents as a young child, you can stay, you're not going to be deported. 2008 looked at sex trafficking was misinterpreted. Now the Senate has their version. It has 2.7 billion in it. Yours has 650 million in it. You're going to do your thing and amend those laws, but we're going to what we're wondering here as Americans. What's going to get done? What is Harry Reid going to do with that?\"\n",
      "\"I hope for once in Washington, we can be responsible and lead in the time of crisis and solve problems. That's what we're doing, you know, as House Republicans on our side. And the monies appropriate, by the way, go towards detention and removal and repatriation back to their countries. No new money, it all comes out of the FEMA disaster relief fund. You mentioned that the DACA, the 2012 executive action that, in my judgment, circumvented the Congress. We're going to reign that one in as well with the vote on the floor reign that in so that this president can no longer do that. The surge really started in 2012 when this executive action sure was put into place.\"\n",
      "\"It was about two hours ago. We had the governor of the great state of Indiana, Mike Pence, on this program, Congressman. And he was talking about how he discovered through the news that hundreds of these illegals were being dumped in his state. The government didn't tell him it was the news media. Why is it, Chairman, the federal government isn't telling state governors who are going to be on the hook for school and welfare and food and stuff like that, that they're sending these kids there?\"\n",
      "\"I think it's totally irresponsible, and I've had this conversation with the Secretary of Homeland Security. Why aren't you telling us where you're putting these children because the governors need to know. The county officials need to know. This will impact every member's district across the nation. And I think to Mike Pence's point, you know, under state laws we have to, we are required to educate the children, in these cases, the children. I've seen, quite frankly, their native dialect is an Indian dialect. It's not even Spanish. They would be put into a special ed type class, translators. This is why we need to stop the flow. That's why our bill, I think, is the answer to stopping this crisis and stopping the flow of these kids coming into the United States.\"\n",
      "\"Alright, well, it's going to pass in the house. Let's see what happens in the Senate. Sir, thank you very much for joining us live from D.C.\"\n",
      "\"Thank you, thanks for having me.\"\n",
      "Coming up...\n"
     ]
    }
   ],
   "source": [
    "fn = \"data/youtube/clean/MichaelTMcCaul-0nm5R5BajNQ.txt\"\n",
    "with open(fn) as fh:\n",
    "    text = fh.read()\n",
    "    print(text)"
   ]
  },
  {
   "cell_type": "code",
   "execution_count": 7,
   "id": "d758c395",
   "metadata": {},
   "outputs": [
    {
     "name": "stdout",
     "output_type": "stream",
     "text": [
      "Welcome back! In just a few hours, the House is set to vote on a border bill that will reign in the president's power to give illegal immigrants amnesty. But, does the bill go far enough to address the border crisis? Joining us now is the chairman of the House Homeland Security Committee, Congressman Michael McCaul. Tomorrow, everyone's set to take recess, so do you believe that this will actually get accomplished? Will everyone leave with something sign, sealed, and delivered?\n",
      "\"Well, the House is going to do this job. This is a crisis that demands action and leadership, and we will provide that today in several ways. One, a message of deterrence. We're going to change the 2008 trafficking law, which basically says that if you come into the United States from Central America, you'll be treated just like we treat the Mexicans with a very swift removal from the United States back to your country of origin. You know, back home in a humane way, and secondly, deploying the National Guard.\"\n",
      "\"The governor of my state has already activated the National Guard, but it's the federal government's responsibility under the Constitution to pick up the tab for that. So, we will be deploying the National Guard all throughout the Southwest border as a border security measure. I think those two things, you know, the 2008 tweak is important because that will stop the flow coming into the country. Once we send them back, they will stop coming in.\"\n",
      "\"Sure, 2012 the president has this dream act. If you got brought here by your parents as a young child, you can stay, you're not going to be deported. 2008 looked at sex trafficking was misinterpreted. Now the Senate has their version. It has 2.7 billion in it. Yours has 650 million in it. You're going to do your thing and amend those laws, but we're going to what we're wondering here as Americans. What's going to get done? What is Harry Reid going to do with that?\"\n",
      "\"I hope for once in Washington, we can be responsible and lead in the time of crisis and solve problems. That's what we're doing, you know, as House Republicans on our side. And the monies appropriate, by the way, go towards detention and removal and repatriation back to their countries. No new money, it all comes out of the FEMA disaster relief fund. You mentioned that the DACA, the 2012 executive action that, in my judgment, circumvented the Congress. We're going to reign that one in as well with the vote on the floor reign that in so that this president can no longer do that. The surge really started in 2012 when this executive action sure was put into place.\"\n",
      "\"It was about two hours ago. We had the governor of the great state of Indiana, Mike Pence, on this program, Congressman. And he was talking about how he discovered through the news that hundreds of these illegals were being dumped in his state. The government didn't tell him it was the news media. Why is it, Chairman, the federal government isn't telling state governors who are going to be on the hook for school and welfare and food and stuff like that, that they're sending these kids there?\"\n",
      "\"I think it's totally irresponsible, and I've had this conversation with the Secretary of Homeland Security. Why aren't you telling us where you're putting these children because the governors need to know. The county officials need to know. This will impact every member's district across the nation. And I think to Mike Pence's point, you know, under state laws we have to, we are required to educate the children, in these cases, the children. I've seen, quite frankly, their native dialect is an Indian dialect. It's not even Spanish. They would be put into a special ed type class, translators. This is why we need to stop the flow. That's why our bill, I think, is the answer to stopping this crisis and stopping the flow of these kids coming into the United States.\"\n",
      "\"Alright, well, it's going to pass in the house. Let's see what happens in the Senate. Sir, thank you very much for joining us live from D.C.\"\n",
      "\"Thank you, thanks for having me.\"\n",
      "Coming up...\n"
     ]
    }
   ],
   "source": [
    "with open(fn, \"w\") as fh:\n",
    "    clean_text = re.sub(r'\\n[\\s\\n]+', '\\n', text)\n",
    "    fh.write(clean_text)\n",
    "    \n",
    "with open(fn) as fh:\n",
    "    new_text = fh.read()\n",
    "    print(new_text)"
   ]
  },
  {
   "cell_type": "code",
   "execution_count": null,
   "id": "e79e87ea",
   "metadata": {},
   "outputs": [],
   "source": []
  }
 ],
 "metadata": {
  "kernelspec": {
   "display_name": "Python 3 (ipykernel)",
   "language": "python",
   "name": "python3"
  },
  "language_info": {
   "codemirror_mode": {
    "name": "ipython",
    "version": 3
   },
   "file_extension": ".py",
   "mimetype": "text/x-python",
   "name": "python",
   "nbconvert_exporter": "python",
   "pygments_lexer": "ipython3",
   "version": "3.10.0"
  }
 },
 "nbformat": 4,
 "nbformat_minor": 5
}
