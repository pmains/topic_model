{
 "cells": [
  {
   "cell_type": "code",
   "execution_count": null,
   "id": "01adbeee",
   "metadata": {},
   "outputs": [],
   "source": [
    "import pandas as pd\n",
    "import numpy as np\n",
    "import altair as alt\n",
    "from random import sample\n",
    "import torch\n",
    "from tqdm import tqdm\n",
    "from collections import Counter\n",
    "from hdbscan import HDBSCAN\n",
    "from sklearn.cluster import DBSCAN, KMeans, Birch\n",
    "from sklearn.manifold import TSNE\n",
    "from sklearn.decomposition import PCA\n",
    "from sklearn.metrics import euclidean_distances\n",
    "from sklearn.preprocessing import MinMaxScaler, StandardScaler, RobustScaler\n",
    "\n",
    "from doc_embed_torch import DocumentEmbeddingTrainer"
   ]
  },
  {
   "cell_type": "code",
   "execution_count": null,
   "id": "03e43648",
   "metadata": {},
   "outputs": [],
   "source": [
    "DUAL = \"dual\"\n",
    "MLM = \"mlm\"\n",
    "\n",
    "run_code = \"MlnsPLul\"\n",
    "model_type = DUAL\n",
    "\n",
    "trainer = DocumentEmbeddingTrainer(run_code=run_code, model_type=model_type)\n",
    "trainer.load_model(run_code)"
   ]
  },
  {
   "cell_type": "code",
   "execution_count": null,
   "id": "bc567390",
   "metadata": {},
   "outputs": [],
   "source": [
    "indices = sample(range(len(trainer.doc_dataset)), 256)\n",
    "print(indices[:10])"
   ]
  },
  {
   "cell_type": "code",
   "execution_count": null,
   "id": "19836785",
   "metadata": {},
   "outputs": [],
   "source": [
    "distances = dict()\n",
    "embeddings = dict()\n",
    "for i in tqdm(indices):\n",
    "    for j in indices:\n",
    "        if (i, j) in distances or (j, i) in distances or i == j:\n",
    "            continue\n",
    "        \n",
    "        doc_i = trainer.doc_dataset[i].unsqueeze(0)\n",
    "        doc_j = trainer.doc_dataset[j].unsqueeze(0)\n",
    "        if i not in embeddings:\n",
    "            embeddings[i] = trainer.model(doc_i, return_doc_embedding=True)\n",
    "        if j not in embeddings:\n",
    "            embeddings[j] = trainer.model(doc_j, return_doc_embedding=True)\n",
    "        \n",
    "        # p determines the Minkowski order. 2 is Euclidean, 1 is Manhattan. etc.\n",
    "        distances[(i, j)] = torch.cdist(embeddings[i].unsqueeze(0), embeddings[j].unsqueeze(0), p=2).item()"
   ]
  },
  {
   "cell_type": "code",
   "execution_count": null,
   "id": "c7b43766",
   "metadata": {},
   "outputs": [],
   "source": [
    "doc_i.shape"
   ]
  },
  {
   "cell_type": "code",
   "execution_count": null,
   "id": "44fb2064",
   "metadata": {},
   "outputs": [],
   "source": [
    "s = pd.Series(distances.values())\n",
    "s.describe()"
   ]
  },
  {
   "cell_type": "code",
   "execution_count": null,
   "id": "89876df1",
   "metadata": {},
   "outputs": [],
   "source": [
    "def get_percentile(percent, embeddings=None):\n",
    "    if embeddings is None:\n",
    "        embeddings = list(distances.values())\n",
    "    \n",
    "    return np.percentile(embeddings, percent)\n",
    "\n",
    "get_percentile(25)"
   ]
  },
  {
   "cell_type": "code",
   "execution_count": null,
   "id": "3cea2cdd",
   "metadata": {},
   "outputs": [],
   "source": [
    "# create a DataFrame from your Series s\n",
    "df = pd.DataFrame(s)\n",
    "df.columns=['value']\n",
    "df.head()"
   ]
  },
  {
   "cell_type": "code",
   "execution_count": null,
   "id": "5c37e097",
   "metadata": {},
   "outputs": [],
   "source": [
    "embeddings_df = pd.DataFrame(\n",
    "    [{'idx': key, 'embedding': value.detach().numpy()} for key, value in embeddings.items()]\n",
    ")\n",
    "embeddings_df.head()"
   ]
  },
  {
   "cell_type": "code",
   "execution_count": null,
   "id": "38a2693d",
   "metadata": {},
   "outputs": [],
   "source": [
    "emb_array = np.concatenate(embeddings_df.embedding.values)\n",
    "emb_array.shape"
   ]
  },
  {
   "cell_type": "code",
   "execution_count": null,
   "id": "71304104",
   "metadata": {},
   "outputs": [],
   "source": [
    "emb_array[0][:3]"
   ]
  },
  {
   "cell_type": "code",
   "execution_count": null,
   "id": "342720e6",
   "metadata": {},
   "outputs": [],
   "source": [
    "mms_emb = MinMaxScaler().fit_transform(emb_array)\n",
    "mms_emb[:5, :5]"
   ]
  },
  {
   "cell_type": "code",
   "execution_count": null,
   "id": "9127e9d5",
   "metadata": {},
   "outputs": [],
   "source": [
    "mms_emb.shape"
   ]
  },
  {
   "cell_type": "code",
   "execution_count": null,
   "id": "1c118d10",
   "metadata": {},
   "outputs": [],
   "source": [
    "def get_predictions(embedding_array, percent, min_samples=3):\n",
    "    # Reduce to 2 components (i.e. 2-dimensional space)\n",
    "    scaled_emb = RobustScaler().fit_transform(embedding_array)\n",
    "    embed_pca = PCA(n_components=20).fit_transform(scaled_emb)\n",
    "    \n",
    "    embed_reduced = TSNE(\n",
    "        n_components=2, learning_rate=200, init='random', perplexity=25, early_exaggeration=percent,\n",
    "    ).fit_transform(embed_pca)\n",
    "    \n",
    "    # Calculate the distance matrix\n",
    "    embed_distances = euclidean_distances(embed_pca)\n",
    "    \n",
    "    # Calculate eps as a percentile of our distance matrix values\n",
    "    eps = np.percentile(embed_distances, percent)\n",
    "    dbscan = DBSCAN(eps=eps, min_samples=min_samples)\n",
    "    pred = dbscan.fit_predict(embed_pca)\n",
    "    return embed_reduced, pred\n",
    "\n",
    "def get_num_topics(predictions):\n",
    "    pred_set = set(predictions)\n",
    "    num_topics = len(pred_set) - int(-1 in pred_set)\n",
    "    counter = Counter(predictions)\n",
    "    return num_topics, counter"
   ]
  },
  {
   "cell_type": "code",
   "execution_count": null,
   "id": "7dffa61c",
   "metadata": {},
   "outputs": [],
   "source": [
    "# get_num_topics(get_predictions(emb_array, 20, 5))\n",
    "er, pred = get_predictions(emb_array, 10, 5)\n",
    "get_num_topics(pred)"
   ]
  },
  {
   "cell_type": "code",
   "execution_count": null,
   "id": "c138b83c",
   "metadata": {},
   "outputs": [],
   "source": [
    "er_df = pd.DataFrame(er)\n",
    "er_df.columns = ['x', 'y']\n",
    "er_df['pred'] = pred\n",
    "\n",
    "er_df.head()"
   ]
  },
  {
   "cell_type": "code",
   "execution_count": null,
   "id": "088d3ad4",
   "metadata": {},
   "outputs": [],
   "source": [
    "alt.Chart(er_df).mark_point().encode(\n",
    "    x=alt.X('x', title=None),\n",
    "    y=alt.Y('y', title=None),\n",
    "    color=alt.Color('pred:N'),\n",
    ")"
   ]
  },
  {
   "cell_type": "code",
   "execution_count": null,
   "id": "23e75065",
   "metadata": {},
   "outputs": [],
   "source": [
    "def predict_generic(embedding_array, model_cls, percent=20, **kwargs):\n",
    "    # Reduce to 2 components (i.e. 2-dimensional space)\n",
    "    scaled_emb = RobustScaler().fit_transform(embedding_array)\n",
    "    embed_pca = PCA(n_components=50).fit_transform(scaled_emb)\n",
    "    \n",
    "    embed_reduced = TSNE(\n",
    "        n_components=2, learning_rate=100, init='random', perplexity=100, early_exaggeration=20,\n",
    "    ).fit_transform(scaled_emb)\n",
    "    \n",
    "    cluster_model = model_cls(**kwargs)\n",
    "    pred = cluster_model.fit_predict(embed_pca)\n",
    "    return embed_reduced, pred"
   ]
  },
  {
   "cell_type": "code",
   "execution_count": null,
   "id": "b05e46df",
   "metadata": {},
   "outputs": [],
   "source": [
    "her, hpred = predict_generic(emb_array, HDBSCAN, min_cluster_size=5)\n",
    "get_num_topics(pred)"
   ]
  },
  {
   "cell_type": "code",
   "execution_count": null,
   "id": "5dc5be19",
   "metadata": {},
   "outputs": [],
   "source": [
    "er_df = pd.DataFrame(er)\n",
    "er_df.columns = ['x', 'y']\n",
    "er_df['pred'] = pred\n",
    "alt.Chart(er_df).mark_point().encode(\n",
    "    x=alt.X('x', title=None),\n",
    "    y=alt.Y('y', title=None),\n",
    "    color=alt.Color('pred:N'),\n",
    ")"
   ]
  },
  {
   "cell_type": "code",
   "execution_count": null,
   "id": "4b87402f",
   "metadata": {},
   "outputs": [],
   "source": []
  }
 ],
 "metadata": {
  "kernelspec": {
   "display_name": "Python 3 (ipykernel)",
   "language": "python",
   "name": "python3"
  },
  "language_info": {
   "codemirror_mode": {
    "name": "ipython",
    "version": 3
   },
   "file_extension": ".py",
   "mimetype": "text/x-python",
   "name": "python",
   "nbconvert_exporter": "python",
   "pygments_lexer": "ipython3",
   "version": "3.10.0"
  }
 },
 "nbformat": 4,
 "nbformat_minor": 5
}
