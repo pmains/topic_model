{
 "cells": [
  {
   "cell_type": "code",
   "execution_count": 29,
   "id": "01adbeee",
   "metadata": {},
   "outputs": [],
   "source": [
    "import pandas as pd\n",
    "import numpy as np\n",
    "import altair as alt\n",
    "from random import sample\n",
    "import torch\n",
    "from tqdm import tqdm\n",
    "\n",
    "from doc_embed_torch import DocumentEmbeddingTrainer, load_run_config, VOCAB_SIZE"
   ]
  },
  {
   "cell_type": "code",
   "execution_count": 11,
   "id": "03e43648",
   "metadata": {},
   "outputs": [
    {
     "name": "stdout",
     "output_type": "stream",
     "text": [
      "Preparing the masked dataset ...\n",
      "Done preparing the masked dataset.\n",
      "Preparing the model for quantization ...\n"
     ]
    }
   ],
   "source": [
    "run_code = \"p1CiZIzT\"\n",
    "trainer = DocumentEmbeddingTrainer(run_code=\"p1CiZIzT\")\n",
    "trainer.load_mlm(run_code, VOCAB_SIZE)"
   ]
  },
  {
   "cell_type": "code",
   "execution_count": 43,
   "id": "bc567390",
   "metadata": {},
   "outputs": [
    {
     "name": "stdout",
     "output_type": "stream",
     "text": [
      "[39582, 97432, 10137, 47954, 23988, 123218, 101765, 40866, 28672, 6067]\n"
     ]
    }
   ],
   "source": [
    "indices = sample(range(len(trainer.train_dataset)), 200)\n",
    "print(indices[:10])"
   ]
  },
  {
   "cell_type": "code",
   "execution_count": 44,
   "id": "19836785",
   "metadata": {},
   "outputs": [
    {
     "name": "stderr",
     "output_type": "stream",
     "text": [
      "100%|█████████████████████████████████████████████████████████████████████████████████████████████████████████████████████████████████████| 200/200 [08:04<00:00,  2.42s/it]\n"
     ]
    }
   ],
   "source": [
    "distances = dict()\n",
    "for i in tqdm(indices):\n",
    "    for j in indices:\n",
    "        if (i, j) in distances or (j, i) in distances or i == j:\n",
    "            continue\n",
    "        \n",
    "        doc_i = trainer.train_dataset[i]\n",
    "        doc_j = trainer.train_dataset[j]\n",
    "        embed_i = trainer.model(doc_i, return_doc_embedding=True)\n",
    "        embed_j = trainer.model(doc_j, return_doc_embedding=True)\n",
    "        \n",
    "        # p determines the Minkowski order. 2 is Euclidean, 1 is Manhattan. etc.\n",
    "        distances[(i, j)] = torch.cdist(embed_i.unsqueeze(0), embed_j.unsqueeze(0), p=2).item()"
   ]
  },
  {
   "cell_type": "code",
   "execution_count": 45,
   "id": "44fb2064",
   "metadata": {},
   "outputs": [
    {
     "data": {
      "text/plain": [
       "count    19900.000000\n",
       "mean        30.373340\n",
       "std          2.682652\n",
       "min          5.589416\n",
       "25%         29.380765\n",
       "50%         30.822581\n",
       "75%         31.936457\n",
       "max         36.048267\n",
       "dtype: float64"
      ]
     },
     "execution_count": 45,
     "metadata": {},
     "output_type": "execute_result"
    }
   ],
   "source": [
    "s = pd.Series(distances.values())\n",
    "s.describe()"
   ]
  },
  {
   "cell_type": "code",
   "execution_count": 58,
   "id": "3cea2cdd",
   "metadata": {},
   "outputs": [
    {
     "data": {
      "text/html": [
       "<div>\n",
       "<style scoped>\n",
       "    .dataframe tbody tr th:only-of-type {\n",
       "        vertical-align: middle;\n",
       "    }\n",
       "\n",
       "    .dataframe tbody tr th {\n",
       "        vertical-align: top;\n",
       "    }\n",
       "\n",
       "    .dataframe thead th {\n",
       "        text-align: right;\n",
       "    }\n",
       "</style>\n",
       "<table border=\"1\" class=\"dataframe\">\n",
       "  <thead>\n",
       "    <tr style=\"text-align: right;\">\n",
       "      <th></th>\n",
       "      <th>mid</th>\n",
       "      <th>count</th>\n",
       "    </tr>\n",
       "  </thead>\n",
       "  <tbody>\n",
       "    <tr>\n",
       "      <th>0</th>\n",
       "      <td>5.7265</td>\n",
       "      <td>1</td>\n",
       "    </tr>\n",
       "    <tr>\n",
       "      <th>1</th>\n",
       "      <td>6.0465</td>\n",
       "      <td>0</td>\n",
       "    </tr>\n",
       "    <tr>\n",
       "      <th>2</th>\n",
       "      <td>6.3510</td>\n",
       "      <td>1</td>\n",
       "    </tr>\n",
       "    <tr>\n",
       "      <th>3</th>\n",
       "      <td>6.6555</td>\n",
       "      <td>1</td>\n",
       "    </tr>\n",
       "    <tr>\n",
       "      <th>4</th>\n",
       "      <td>6.9600</td>\n",
       "      <td>2</td>\n",
       "    </tr>\n",
       "  </tbody>\n",
       "</table>\n",
       "</div>"
      ],
      "text/plain": [
       "      mid  count\n",
       "0  5.7265      1\n",
       "1  6.0465      0\n",
       "2  6.3510      1\n",
       "3  6.6555      1\n",
       "4  6.9600      2"
      ]
     },
     "execution_count": 58,
     "metadata": {},
     "output_type": "execute_result"
    }
   ],
   "source": [
    "# create a DataFrame from your Series s\n",
    "df = pd.DataFrame({'s': s})\n",
    "df['bin'] = pd.cut(df['s'], bins=100)\n",
    "df_agg = df.groupby('bin').size().reset_index(name='count')\n",
    "df_agg['mid'] = df_agg.bin.apply(lambda x: x.mid)\n",
    "df_agg = df_agg[['mid', 'count']].copy()\n",
    "\n",
    "df_agg.head()"
   ]
  },
  {
   "cell_type": "code",
   "execution_count": 59,
   "id": "8d356921",
   "metadata": {},
   "outputs": [
    {
     "data": {
      "text/html": [
       "\n",
       "<div id=\"altair-viz-a8708efb95424050b331a81c0e9d1612\"></div>\n",
       "<script type=\"text/javascript\">\n",
       "  var VEGA_DEBUG = (typeof VEGA_DEBUG == \"undefined\") ? {} : VEGA_DEBUG;\n",
       "  (function(spec, embedOpt){\n",
       "    let outputDiv = document.currentScript.previousElementSibling;\n",
       "    if (outputDiv.id !== \"altair-viz-a8708efb95424050b331a81c0e9d1612\") {\n",
       "      outputDiv = document.getElementById(\"altair-viz-a8708efb95424050b331a81c0e9d1612\");\n",
       "    }\n",
       "    const paths = {\n",
       "      \"vega\": \"https://cdn.jsdelivr.net/npm//vega@5?noext\",\n",
       "      \"vega-lib\": \"https://cdn.jsdelivr.net/npm//vega-lib?noext\",\n",
       "      \"vega-lite\": \"https://cdn.jsdelivr.net/npm//vega-lite@4.17.0?noext\",\n",
       "      \"vega-embed\": \"https://cdn.jsdelivr.net/npm//vega-embed@6?noext\",\n",
       "    };\n",
       "\n",
       "    function maybeLoadScript(lib, version) {\n",
       "      var key = `${lib.replace(\"-\", \"\")}_version`;\n",
       "      return (VEGA_DEBUG[key] == version) ?\n",
       "        Promise.resolve(paths[lib]) :\n",
       "        new Promise(function(resolve, reject) {\n",
       "          var s = document.createElement('script');\n",
       "          document.getElementsByTagName(\"head\")[0].appendChild(s);\n",
       "          s.async = true;\n",
       "          s.onload = () => {\n",
       "            VEGA_DEBUG[key] = version;\n",
       "            return resolve(paths[lib]);\n",
       "          };\n",
       "          s.onerror = () => reject(`Error loading script: ${paths[lib]}`);\n",
       "          s.src = paths[lib];\n",
       "        });\n",
       "    }\n",
       "\n",
       "    function showError(err) {\n",
       "      outputDiv.innerHTML = `<div class=\"error\" style=\"color:red;\">${err}</div>`;\n",
       "      throw err;\n",
       "    }\n",
       "\n",
       "    function displayChart(vegaEmbed) {\n",
       "      vegaEmbed(outputDiv, spec, embedOpt)\n",
       "        .catch(err => showError(`Javascript Error: ${err.message}<br>This usually means there's a typo in your chart specification. See the javascript console for the full traceback.`));\n",
       "    }\n",
       "\n",
       "    if(typeof define === \"function\" && define.amd) {\n",
       "      requirejs.config({paths});\n",
       "      require([\"vega-embed\"], displayChart, err => showError(`Error loading script: ${err.message}`));\n",
       "    } else {\n",
       "      maybeLoadScript(\"vega\", \"5\")\n",
       "        .then(() => maybeLoadScript(\"vega-lite\", \"4.17.0\"))\n",
       "        .then(() => maybeLoadScript(\"vega-embed\", \"6\"))\n",
       "        .catch(showError)\n",
       "        .then(() => displayChart(vegaEmbed));\n",
       "    }\n",
       "  })({\"config\": {\"view\": {\"continuousWidth\": 400, \"continuousHeight\": 300}}, \"data\": {\"name\": \"data-8698dda566763cc511d38e12a96e8c95\"}, \"mark\": \"bar\", \"encoding\": {\"x\": {\"field\": \"mid\", \"type\": \"nominal\"}, \"y\": {\"field\": \"count\", \"type\": \"quantitative\"}}, \"height\": 500, \"width\": 750, \"$schema\": \"https://vega.github.io/schema/vega-lite/v4.17.0.json\", \"datasets\": {\"data-8698dda566763cc511d38e12a96e8c95\": [{\"mid\": 5.7265, \"count\": 1}, {\"mid\": 6.0465, \"count\": 0}, {\"mid\": 6.351, \"count\": 1}, {\"mid\": 6.6555, \"count\": 1}, {\"mid\": 6.96, \"count\": 2}, {\"mid\": 7.2645, \"count\": 1}, {\"mid\": 7.5695, \"count\": 0}, {\"mid\": 7.8740000000000006, \"count\": 0}, {\"mid\": 8.1785, \"count\": 3}, {\"mid\": 8.483, \"count\": 3}, {\"mid\": 8.7875, \"count\": 6}, {\"mid\": 9.091999999999999, \"count\": 6}, {\"mid\": 9.3965, \"count\": 7}, {\"mid\": 9.7015, \"count\": 5}, {\"mid\": 10.006, \"count\": 6}, {\"mid\": 10.3105, \"count\": 4}, {\"mid\": 10.614999999999998, \"count\": 4}, {\"mid\": 10.9195, \"count\": 4}, {\"mid\": 11.224499999999999, \"count\": 11}, {\"mid\": 11.529, \"count\": 5}, {\"mid\": 11.8335, \"count\": 6}, {\"mid\": 12.138, \"count\": 4}, {\"mid\": 12.442499999999999, \"count\": 6}, {\"mid\": 12.7475, \"count\": 5}, {\"mid\": 13.052, \"count\": 5}, {\"mid\": 13.3565, \"count\": 1}, {\"mid\": 13.661000000000001, \"count\": 5}, {\"mid\": 13.9655, \"count\": 2}, {\"mid\": 14.27, \"count\": 2}, {\"mid\": 14.5745, \"count\": 5}, {\"mid\": 14.8795, \"count\": 12}, {\"mid\": 15.184000000000001, \"count\": 10}, {\"mid\": 15.4885, \"count\": 18}, {\"mid\": 15.793, \"count\": 15}, {\"mid\": 16.0975, \"count\": 16}, {\"mid\": 16.4025, \"count\": 10}, {\"mid\": 16.707, \"count\": 12}, {\"mid\": 17.0115, \"count\": 7}, {\"mid\": 17.316000000000003, \"count\": 6}, {\"mid\": 17.6205, \"count\": 9}, {\"mid\": 17.9255, \"count\": 5}, {\"mid\": 18.23, \"count\": 6}, {\"mid\": 18.5345, \"count\": 4}, {\"mid\": 18.839, \"count\": 1}, {\"mid\": 19.1435, \"count\": 0}, {\"mid\": 19.448, \"count\": 2}, {\"mid\": 19.7525, \"count\": 1}, {\"mid\": 20.0575, \"count\": 0}, {\"mid\": 20.362000000000002, \"count\": 1}, {\"mid\": 20.6665, \"count\": 3}, {\"mid\": 20.971, \"count\": 2}, {\"mid\": 21.2755, \"count\": 2}, {\"mid\": 21.5805, \"count\": 2}, {\"mid\": 21.884999999999998, \"count\": 0}, {\"mid\": 22.1895, \"count\": 5}, {\"mid\": 22.494, \"count\": 4}, {\"mid\": 22.7985, \"count\": 3}, {\"mid\": 23.1035, \"count\": 6}, {\"mid\": 23.408, \"count\": 3}, {\"mid\": 23.7125, \"count\": 15}, {\"mid\": 24.017, \"count\": 12}, {\"mid\": 24.3215, \"count\": 12}, {\"mid\": 24.625999999999998, \"count\": 27}, {\"mid\": 24.9305, \"count\": 33}, {\"mid\": 25.235500000000002, \"count\": 52}, {\"mid\": 25.54, \"count\": 74}, {\"mid\": 25.8445, \"count\": 105}, {\"mid\": 26.149, \"count\": 157}, {\"mid\": 26.4535, \"count\": 170}, {\"mid\": 26.7585, \"count\": 244}, {\"mid\": 27.063000000000002, \"count\": 298}, {\"mid\": 27.3675, \"count\": 341}, {\"mid\": 27.672, \"count\": 401}, {\"mid\": 27.9765, \"count\": 462}, {\"mid\": 28.2815, \"count\": 460}, {\"mid\": 28.586, \"count\": 493}, {\"mid\": 28.8905, \"count\": 621}, {\"mid\": 29.195, \"count\": 638}, {\"mid\": 29.4995, \"count\": 773}, {\"mid\": 29.804000000000002, \"count\": 900}, {\"mid\": 30.1085, \"count\": 1063}, {\"mid\": 30.4135, \"count\": 1186}, {\"mid\": 30.718, \"count\": 1363}, {\"mid\": 31.0225, \"count\": 1383}, {\"mid\": 31.326999999999998, \"count\": 1400}, {\"mid\": 31.6315, \"count\": 1324}, {\"mid\": 31.9365, \"count\": 1269}, {\"mid\": 32.241, \"count\": 1111}, {\"mid\": 32.545500000000004, \"count\": 975}, {\"mid\": 32.85, \"count\": 714}, {\"mid\": 33.1545, \"count\": 544}, {\"mid\": 33.459500000000006, \"count\": 415}, {\"mid\": 33.763999999999996, \"count\": 230}, {\"mid\": 34.0685, \"count\": 176}, {\"mid\": 34.373, \"count\": 97}, {\"mid\": 34.677499999999995, \"count\": 47}, {\"mid\": 34.9825, \"count\": 21}, {\"mid\": 35.287, \"count\": 10}, {\"mid\": 35.591499999999996, \"count\": 7}, {\"mid\": 35.896, \"count\": 1}]}}, {\"mode\": \"vega-lite\"});\n",
       "</script>"
      ],
      "text/plain": [
       "alt.Chart(...)"
      ]
     },
     "execution_count": 59,
     "metadata": {},
     "output_type": "execute_result"
    }
   ],
   "source": [
    "# create the histogram chart\n",
    "alt.Chart(df_agg).mark_bar().encode(\n",
    "    alt.X('mid'),\n",
    "    y='count'\n",
    ").properties(\n",
    "    height=500,\n",
    "    width=750,\n",
    ")"
   ]
  },
  {
   "cell_type": "code",
   "execution_count": null,
   "id": "1c118d10",
   "metadata": {},
   "outputs": [],
   "source": []
  }
 ],
 "metadata": {
  "kernelspec": {
   "display_name": "Python 3 (ipykernel)",
   "language": "python",
   "name": "python3"
  },
  "language_info": {
   "codemirror_mode": {
    "name": "ipython",
    "version": 3
   },
   "file_extension": ".py",
   "mimetype": "text/x-python",
   "name": "python",
   "nbconvert_exporter": "python",
   "pygments_lexer": "ipython3",
   "version": "3.10.0"
  }
 },
 "nbformat": 4,
 "nbformat_minor": 5
}
