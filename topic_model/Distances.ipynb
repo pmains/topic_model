{
 "cells": [
  {
   "cell_type": "code",
   "execution_count": 25,
   "id": "01adbeee",
   "metadata": {},
   "outputs": [],
   "source": [
    "import pandas as pd\n",
    "import numpy as np\n",
    "import altair as alt\n",
    "from random import sample\n",
    "import torch\n",
    "from tqdm import tqdm\n",
    "from collections import Counter\n",
    "from sklearn.cluster import DBSCAN, KMeans, Birch\n",
    "\n",
    "from doc_embed_torch import DocumentEmbeddingTrainer, load_run_config, VOCAB_SIZE"
   ]
  },
  {
   "cell_type": "code",
   "execution_count": 2,
   "id": "03e43648",
   "metadata": {},
   "outputs": [
    {
     "name": "stdout",
     "output_type": "stream",
     "text": [
      "Preparing the masked dataset ...\n",
      "Done preparing the masked dataset.\n",
      "Preparing the model for quantization ...\n"
     ]
    }
   ],
   "source": [
    "run_code = \"CjP6bpvz\"\n",
    "trainer = DocumentEmbeddingTrainer(run_code=run_code)\n",
    "trainer.load_mlm(run_code, VOCAB_SIZE)"
   ]
  },
  {
   "cell_type": "code",
   "execution_count": 36,
   "id": "bc567390",
   "metadata": {},
   "outputs": [
    {
     "name": "stdout",
     "output_type": "stream",
     "text": [
      "[2887, 37168, 1352, 41623, 29038, 72186, 57613, 8937, 9221, 52895]\n"
     ]
    }
   ],
   "source": [
    "indices = sample(range(len(trainer.train_dataset)), 256)\n",
    "print(indices[:10])"
   ]
  },
  {
   "cell_type": "code",
   "execution_count": 37,
   "id": "19836785",
   "metadata": {},
   "outputs": [
    {
     "name": "stderr",
     "output_type": "stream",
     "text": [
      "100%|█████████████████████████████████████████████████████████████████████████████████████████████████████████████████████████████████████| 256/256 [00:43<00:00,  5.83it/s]\n"
     ]
    }
   ],
   "source": [
    "distances = dict()\n",
    "embeddings = dict()\n",
    "for i in tqdm(indices):\n",
    "    for j in indices:\n",
    "        if (i, j) in distances or (j, i) in distances or i == j:\n",
    "            continue\n",
    "        \n",
    "        doc_i = trainer.train_dataset[i]\n",
    "        doc_j = trainer.train_dataset[j]\n",
    "        if i not in embeddings:\n",
    "            embeddings[i] = trainer.model(doc_i, return_doc_embedding=True)\n",
    "        if j not in embeddings:\n",
    "            embeddings[j] = trainer.model(doc_j, return_doc_embedding=True)\n",
    "        \n",
    "        # p determines the Minkowski order. 2 is Euclidean, 1 is Manhattan. etc.\n",
    "        distances[(i, j)] = torch.cdist(embeddings[i].unsqueeze(0), embeddings[j].unsqueeze(0), p=2).item()"
   ]
  },
  {
   "cell_type": "code",
   "execution_count": 38,
   "id": "44fb2064",
   "metadata": {},
   "outputs": [
    {
     "data": {
      "text/plain": [
       "count    32640.000000\n",
       "mean         0.049830\n",
       "std          0.018750\n",
       "min          0.021950\n",
       "25%          0.038877\n",
       "50%          0.041922\n",
       "75%          0.048554\n",
       "max          0.133237\n",
       "dtype: float64"
      ]
     },
     "execution_count": 38,
     "metadata": {},
     "output_type": "execute_result"
    }
   ],
   "source": [
    "s = pd.Series(distances.values())\n",
    "s.describe()"
   ]
  },
  {
   "cell_type": "code",
   "execution_count": 39,
   "id": "89876df1",
   "metadata": {},
   "outputs": [
    {
     "data": {
      "text/plain": [
       "0.03887707367539406"
      ]
     },
     "execution_count": 39,
     "metadata": {},
     "output_type": "execute_result"
    }
   ],
   "source": [
    "def get_percentile(percent):\n",
    "    return np.percentile(list(distances.values()), percent)\n",
    "\n",
    "get_percentile(25)"
   ]
  },
  {
   "cell_type": "code",
   "execution_count": 40,
   "id": "3cea2cdd",
   "metadata": {},
   "outputs": [
    {
     "data": {
      "text/html": [
       "<div>\n",
       "<style scoped>\n",
       "    .dataframe tbody tr th:only-of-type {\n",
       "        vertical-align: middle;\n",
       "    }\n",
       "\n",
       "    .dataframe tbody tr th {\n",
       "        vertical-align: top;\n",
       "    }\n",
       "\n",
       "    .dataframe thead th {\n",
       "        text-align: right;\n",
       "    }\n",
       "</style>\n",
       "<table border=\"1\" class=\"dataframe\">\n",
       "  <thead>\n",
       "    <tr style=\"text-align: right;\">\n",
       "      <th></th>\n",
       "      <th>value</th>\n",
       "    </tr>\n",
       "  </thead>\n",
       "  <tbody>\n",
       "    <tr>\n",
       "      <th>0</th>\n",
       "      <td>0.092948</td>\n",
       "    </tr>\n",
       "    <tr>\n",
       "      <th>1</th>\n",
       "      <td>0.038697</td>\n",
       "    </tr>\n",
       "    <tr>\n",
       "      <th>2</th>\n",
       "      <td>0.044966</td>\n",
       "    </tr>\n",
       "    <tr>\n",
       "      <th>3</th>\n",
       "      <td>0.038087</td>\n",
       "    </tr>\n",
       "    <tr>\n",
       "      <th>4</th>\n",
       "      <td>0.042275</td>\n",
       "    </tr>\n",
       "  </tbody>\n",
       "</table>\n",
       "</div>"
      ],
      "text/plain": [
       "      value\n",
       "0  0.092948\n",
       "1  0.038697\n",
       "2  0.044966\n",
       "3  0.038087\n",
       "4  0.042275"
      ]
     },
     "execution_count": 40,
     "metadata": {},
     "output_type": "execute_result"
    }
   ],
   "source": [
    "# create a DataFrame from your Series s\n",
    "df = pd.DataFrame(s)\n",
    "df.columns=['value']\n",
    "df.head()"
   ]
  },
  {
   "cell_type": "code",
   "execution_count": 41,
   "id": "5c37e097",
   "metadata": {},
   "outputs": [
    {
     "data": {
      "text/html": [
       "<div>\n",
       "<style scoped>\n",
       "    .dataframe tbody tr th:only-of-type {\n",
       "        vertical-align: middle;\n",
       "    }\n",
       "\n",
       "    .dataframe tbody tr th {\n",
       "        vertical-align: top;\n",
       "    }\n",
       "\n",
       "    .dataframe thead th {\n",
       "        text-align: right;\n",
       "    }\n",
       "</style>\n",
       "<table border=\"1\" class=\"dataframe\">\n",
       "  <thead>\n",
       "    <tr style=\"text-align: right;\">\n",
       "      <th></th>\n",
       "      <th>idx</th>\n",
       "      <th>embedding</th>\n",
       "    </tr>\n",
       "  </thead>\n",
       "  <tbody>\n",
       "    <tr>\n",
       "      <th>0</th>\n",
       "      <td>2887</td>\n",
       "      <td>[0.008524248, 0.0032130228, 0.0064429687, 0.00...</td>\n",
       "    </tr>\n",
       "    <tr>\n",
       "      <th>1</th>\n",
       "      <td>37168</td>\n",
       "      <td>[-0.0033808919, -0.00012160279, -0.0046389946,...</td>\n",
       "    </tr>\n",
       "    <tr>\n",
       "      <th>2</th>\n",
       "      <td>1352</td>\n",
       "      <td>[0.004151065, 0.010614921, 0.0033359602, 0.002...</td>\n",
       "    </tr>\n",
       "    <tr>\n",
       "      <th>3</th>\n",
       "      <td>41623</td>\n",
       "      <td>[0.0010293359, 0.0025295867, 0.0060312664, 0.0...</td>\n",
       "    </tr>\n",
       "    <tr>\n",
       "      <th>4</th>\n",
       "      <td>29038</td>\n",
       "      <td>[0.0028249985, 0.0060028057, 0.0059975833, 0.0...</td>\n",
       "    </tr>\n",
       "  </tbody>\n",
       "</table>\n",
       "</div>"
      ],
      "text/plain": [
       "     idx                                          embedding\n",
       "0   2887  [0.008524248, 0.0032130228, 0.0064429687, 0.00...\n",
       "1  37168  [-0.0033808919, -0.00012160279, -0.0046389946,...\n",
       "2   1352  [0.004151065, 0.010614921, 0.0033359602, 0.002...\n",
       "3  41623  [0.0010293359, 0.0025295867, 0.0060312664, 0.0...\n",
       "4  29038  [0.0028249985, 0.0060028057, 0.0059975833, 0.0..."
      ]
     },
     "execution_count": 41,
     "metadata": {},
     "output_type": "execute_result"
    }
   ],
   "source": [
    "embeddings_df = pd.DataFrame(\n",
    "    [{'idx': key, 'embedding': value.detach().numpy()} for key, value in embeddings.items()]\n",
    ")\n",
    "embeddings_df.head()"
   ]
  },
  {
   "cell_type": "code",
   "execution_count": 17,
   "id": "ac7c525b",
   "metadata": {},
   "outputs": [
    {
     "data": {
      "text/plain": [
       "((100, 128), (128,))"
      ]
     },
     "execution_count": 17,
     "metadata": {},
     "output_type": "execute_result"
    }
   ],
   "source": [
    "emb_array = np.array([emb for emb in embeddings_df.embedding.values])\n",
    "emb_array.shape, emb_array[0].shape"
   ]
  },
  {
   "cell_type": "code",
   "execution_count": 42,
   "id": "1c118d10",
   "metadata": {},
   "outputs": [],
   "source": [
    "def get_predictions(embedding_array, percent, min_samples=3):\n",
    "    dbscan = DBSCAN(eps=get_percentile(percent), min_samples=min_samples)\n",
    "    pred = dbscan.fit_predict(embedding_array)\n",
    "    return pred\n",
    "\n",
    "def get_num_topics(predictions):\n",
    "    pred_set = set(predictions)\n",
    "    num_topics = len(pred_set) - int(-1 in pred_set)\n",
    "    counter = Counter(predictions)\n",
    "    return num_topics, counter"
   ]
  },
  {
   "cell_type": "code",
   "execution_count": 43,
   "id": "fd6ac0f7",
   "metadata": {},
   "outputs": [
    {
     "name": "stdout",
     "output_type": "stream",
     "text": [
      "5 2 (2, Counter({1: 70, -1: 17, 0: 13}))\n",
      "5 3 (2, Counter({1: 70, -1: 17, 0: 13}))\n",
      "5 5 (2, Counter({1: 69, -1: 18, 0: 13}))\n",
      "5 10 (2, Counter({1: 66, -1: 21, 0: 13}))\n",
      "5 20 (1, Counter({0: 62, -1: 38}))\n",
      "10 2 (2, Counter({1: 80, 0: 13, -1: 7}))\n",
      "10 3 (2, Counter({1: 80, 0: 13, -1: 7}))\n",
      "10 5 (2, Counter({1: 80, 0: 13, -1: 7}))\n",
      "10 10 (2, Counter({1: 79, 0: 13, -1: 8}))\n",
      "10 20 (1, Counter({0: 76, -1: 24}))\n",
      "25 2 (2, Counter({1: 86, 0: 13, -1: 1}))\n",
      "25 3 (2, Counter({1: 86, 0: 13, -1: 1}))\n",
      "25 5 (2, Counter({1: 86, 0: 13, -1: 1}))\n",
      "25 10 (2, Counter({1: 86, 0: 13, -1: 1}))\n",
      "25 20 (1, Counter({0: 85, -1: 15}))\n",
      "50 2 (2, Counter({1: 87, 0: 13}))\n",
      "50 3 (2, Counter({1: 87, 0: 13}))\n",
      "50 5 (2, Counter({1: 87, 0: 13}))\n",
      "50 10 (2, Counter({1: 87, 0: 13}))\n",
      "50 20 (1, Counter({0: 87, -1: 13}))\n",
      "80 2 (1, Counter({0: 100}))\n",
      "80 3 (1, Counter({0: 100}))\n",
      "80 5 (1, Counter({0: 100}))\n",
      "80 10 (1, Counter({0: 100}))\n",
      "80 20 (1, Counter({0: 95, -1: 5}))\n",
      "90 2 (1, Counter({0: 100}))\n",
      "90 3 (1, Counter({0: 100}))\n",
      "90 5 (1, Counter({0: 100}))\n",
      "90 10 (1, Counter({0: 100}))\n",
      "90 20 (1, Counter({0: 100}))\n"
     ]
    }
   ],
   "source": [
    "for percentile in (5, 10, 25, 50, 80, 90):\n",
    "    for ms in (2, 3, 5, 10, 20):\n",
    "        print(percentile, ms, get_num_topics(get_predictions(emb_array, percentile, ms)))"
   ]
  },
  {
   "cell_type": "code",
   "execution_count": null,
   "id": "6f052095",
   "metadata": {},
   "outputs": [],
   "source": []
  }
 ],
 "metadata": {
  "kernelspec": {
   "display_name": "Python 3 (ipykernel)",
   "language": "python",
   "name": "python3"
  },
  "language_info": {
   "codemirror_mode": {
    "name": "ipython",
    "version": 3
   },
   "file_extension": ".py",
   "mimetype": "text/x-python",
   "name": "python",
   "nbconvert_exporter": "python",
   "pygments_lexer": "ipython3",
   "version": "3.10.0"
  }
 },
 "nbformat": 4,
 "nbformat_minor": 5
}
